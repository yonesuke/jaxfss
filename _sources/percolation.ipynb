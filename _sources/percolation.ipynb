{
 "cells": [
  {
   "cell_type": "markdown",
   "metadata": {},
   "source": [
    "# Two-dimensional percolation model"
   ]
  },
  {
   "cell_type": "markdown",
   "metadata": {},
   "source": [
    "##  What is percolation model?"
   ]
  },
  {
   "cell_type": "markdown",
   "metadata": {},
   "source": [
    "In percolation theory, bonds between lattice points open with probability $p$, then two\n",
    "points are connected.\n",
    "We discuss the clusters that are then formed, their size, and their dependence on the probability.\n",
    "It is known from extensive research to date that as the probability of the opening of bonds between lattice points is increased, a phase transition phenomenon is observed in which clusters have formed that spread throughout the entire system with a certain probability $p_{\\mathrm{c}}$.\n",
    "The value of this critical probability $p_{\\mathrm{c}}$ is known for many two-dimensional lattices.\n",
    "\n",
    "![](images/percolation.png)\n",
    "This image shows the typical bond percolation configurations on a square lattice with bond probabilities $p = 0.3$ (left) and $p = 0.6$ (right) for the lattice size $L = 16$.\n",
    "At $p = 0.$, there are no clusters spread throughout the system. \n",
    "When $p = 0.6$ exceeds the critical probability $p_{\\mathrm{c}} = 1/2$, clusters spreading throughout the system, i.e., clusters crossing up and down, or left and right, can be confirmed."
   ]
  },
  {
   "cell_type": "code",
   "execution_count": null,
   "metadata": {},
   "outputs": [],
   "source": [
    "!head data/percolation.txt"
   ]
  },
  {
   "cell_type": "markdown",
   "metadata": {},
   "source": [
    "## Critical Phenomena"
   ]
  },
  {
   "cell_type": "markdown",
   "metadata": {},
   "source": [
    "## Neural Scaling Analysis"
   ]
  }
 ],
 "metadata": {
  "kernelspec": {
   "display_name": "Python 3.9.7 64-bit ('base')",
   "language": "python",
   "name": "python3"
  },
  "language_info": {
   "name": "python",
   "version": "3.9.7"
  },
  "orig_nbformat": 4,
  "vscode": {
   "interpreter": {
    "hash": "7d3977cd516aab4e7ac34ec0977b1608119a96f0bf9dd8c065a30d2af58323e0"
   }
  }
 },
 "nbformat": 4,
 "nbformat_minor": 2
}
